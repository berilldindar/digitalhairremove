{
  "nbformat": 4,
  "nbformat_minor": 0,
  "metadata": {
    "kernelspec": {
      "display_name": "Python 3",
      "language": "python",
      "name": "python3"
    },
    "language_info": {
      "codemirror_mode": {
        "name": "ipython",
        "version": 3
      },
      "file_extension": ".py",
      "mimetype": "text/x-python",
      "name": "python",
      "nbconvert_exporter": "python",
      "pygments_lexer": "ipython3",
      "version": "3.8.5"
    },
    "colab": {
      "name": "BerilDindar170205022Final.ipynb",
      "provenance": [],
      "include_colab_link": true
    }
  },
  "cells": [
    {
      "cell_type": "markdown",
      "metadata": {
        "id": "view-in-github",
        "colab_type": "text"
      },
      "source": [
        "<a href=\"https://colab.research.google.com/github/berilldindar/digitalhairremove/blob/main/DigitalHairRemove.ipynb\" target=\"_parent\"><img src=\"https://colab.research.google.com/assets/colab-badge.svg\" alt=\"Open In Colab\"/></a>"
      ]
    },
    {
      "cell_type": "code",
      "metadata": {
        "id": "mXspc7oVWbnu",
        "outputId": "cc4d8d9d-ec3d-4570-b53a-cd1b54d5969b"
      },
      "source": [
        "import cv2\n",
        "#resize işlemi gerçekleştirdim çünkü görsel çok büyük gözlemleniyor.\n",
        "src = cv2.imread(\"ISIC_9228573.jpg\", cv2.IMREAD_UNCHANGED)\n",
        "scale_percent = 50\n",
        "width = int(src.shape[1] * scale_percent / 100)\n",
        "height = int(src.shape[0] * scale_percent / 100)\n",
        "dsize = (width, height)\n",
        "output = cv2.resize(src, dsize)\n",
        "cv2.imshow('ISIC_9228573/resize.jpg',output)\n",
        "cv2.waitKey(0)\n",
        "#inpait edebilmek için öncelikle RGB görüntüyü grayscale'e dönüştürdüm.\n",
        "grayScale = cv2.cvtColor( output, cv2.COLOR_RGB2GRAY )\n",
        "cv2.imshow(\"GrayScale\",grayScale)\n",
        "cv2.imwrite('grayScale_sample9228573.jpg', grayScale, [int(cv2.IMWRITE_JPEG_QUALITY), 90])\n",
        "cv2.waitKey(0)\n",
        "kernel = cv2.getStructuringElement(1,(17,17)) #kernel tanımladım.\n",
        "#blackhat ile morfolojik işlemler uyguladım\n",
        "blackhat = cv2.morphologyEx(grayScale, cv2.MORPH_BLACKHAT, kernel)\n",
        "cv2.imshow(\"BlackHat\",blackhat)\n",
        "cv2.imwrite('blackhat_sample9228573.jpg', blackhat, [int(cv2.IMWRITE_JPEG_QUALITY), 90])\n",
        "cv2.waitKey(0)\n",
        "#Görüntüye threshold uygulayarak görüntünün maskesini çıkardım. Dilate yaparak gürültüleri yok etmeyi amaçladım.\n",
        "ret,thresh2 = cv2.threshold(blackhat,5,255,cv2.THRESH_BINARY)\n",
        "print( thresh2.shape )\n",
        "cv2.imshow(\"Thresholded Mask\",thresh2)\n",
        "cv2.imwrite('thresholded_sample9228573.jpg', thresh2, [int(cv2.IMWRITE_JPEG_QUALITY), 90])\n",
        "thresh2=cv2.dilate(thresh2.copy(),kernel,iterations=1)\n",
        "cv2.waitKey(0)\n",
        "#Son olarak inpaint işleminden geçirdim.\n",
        "dst = cv2.inpaint(output,thresh2,10,cv2.INPAINT_TELEA)\n",
        "cv2.imshow(\"InPaint\",dst)\n",
        "cv2.imwrite('InPainted_sample9228573yeni.jpg', dst, [int(cv2.IMWRITE_JPEG_QUALITY), 90])\n",
        "cv2.waitKey(0)"
      ],
      "execution_count": null,
      "outputs": [
        {
          "output_type": "stream",
          "text": [
            "(1424, 2144)\n"
          ],
          "name": "stdout"
        },
        {
          "output_type": "execute_result",
          "data": {
            "text/plain": [
              "-1"
            ]
          },
          "metadata": {
            "tags": []
          },
          "execution_count": 18
        }
      ]
    },
    {
      "cell_type": "code",
      "metadata": {
        "id": "tJr-02yxWbny",
        "outputId": "ca0609fa-1b49-4002-dbad-3ce67c252b77"
      },
      "source": [
        "import cv2\n",
        "src = cv2.imread(\"ISIC_0000095.jpg\", cv2.IMREAD_UNCHANGED)\n",
        "scale_percent = 50\n",
        "\n",
        "width = int(src.shape[1] * scale_percent / 100)\n",
        "height = int(src.shape[0] * scale_percent / 100)\n",
        "\n",
        "dsize = (width, height)\n",
        "output = cv2.resize(src, dsize)\n",
        "cv2.imshow('ISIC_0000095/resize.jpg',output)\n",
        "cv2.waitKey(0)\n",
        "\n",
        "grayScale = cv2.cvtColor( output, cv2.COLOR_RGB2GRAY )\n",
        "cv2.imshow(\"GrayScale\",grayScale)\n",
        "cv2.imwrite('grayScale_sample95.jpg', grayScale, [int(cv2.IMWRITE_JPEG_QUALITY), 90])\n",
        "cv2.waitKey(0)\n",
        "\n",
        "kernel = cv2.getStructuringElement(1,(13,13))\n",
        "\n",
        "blackhat = cv2.morphologyEx(grayScale, cv2.MORPH_BLACKHAT, kernel)\n",
        "cv2.imshow(\"BlackHat\",blackhat)\n",
        "cv2.imwrite('blackhat_sample95.jpg', blackhat, [int(cv2.IMWRITE_JPEG_QUALITY), 90])\n",
        "cv2.waitKey(0)\n",
        "\n",
        "ret,thresh2 = cv2.threshold(blackhat,10,255,cv2.THRESH_BINARY)\n",
        "print( thresh2.shape )\n",
        "cv2.imshow(\"Thresholded Mask\",thresh2)\n",
        "cv2.imwrite('thresholded_sample95.jpg', thresh2, [int(cv2.IMWRITE_JPEG_QUALITY), 90])\n",
        "thresh2=cv2.dilate(thresh2.copy(),kernel,iterations=1)\n",
        "cv2.waitKey(0)\n",
        "dst = cv2.inpaint(output,thresh2,10,cv2.INPAINT_TELEA)\n",
        "cv2.imshow(\"InPaint\",dst)\n",
        "cv2.imwrite('InPainted_sample95yeni.jpg', dst, [int(cv2.IMWRITE_JPEG_QUALITY), 90])\n",
        "cv2.waitKey(0)"
      ],
      "execution_count": null,
      "outputs": [
        {
          "output_type": "stream",
          "text": [
            "(768, 1024)\n"
          ],
          "name": "stdout"
        },
        {
          "output_type": "execute_result",
          "data": {
            "text/plain": [
              "-1"
            ]
          },
          "metadata": {
            "tags": []
          },
          "execution_count": 26
        }
      ]
    },
    {
      "cell_type": "code",
      "metadata": {
        "id": "siBgoGv7Wbnz",
        "outputId": "c63d28ab-4098-466e-a00c-ee043072b751"
      },
      "source": [
        "import cv2\n",
        "src = cv2.imread(\"ISIC_0000042.jpg\", cv2.IMREAD_UNCHANGED)\n",
        "scale_percent = 50\n",
        "\n",
        "width = int(src.shape[1] * scale_percent / 100)\n",
        "height = int(src.shape[0] * scale_percent / 100)\n",
        "\n",
        "\n",
        "dsize = (width, height)\n",
        "\n",
        "output = cv2.resize(src, dsize)\n",
        "\n",
        "cv2.imshow('ISIC_0000042.jpg/resize.jpg',output)\n",
        "\n",
        "cv2.waitKey(0)\n",
        "\n",
        "grayScale = cv2.cvtColor( output, cv2.COLOR_RGB2GRAY )\n",
        "cv2.imshow(\"GrayScale\",grayScale)\n",
        "cv2.imwrite('grayScale_sample1.jpg', grayScale, [int(cv2.IMWRITE_JPEG_QUALITY), 90])\n",
        "\n",
        "\n",
        "kernel = cv2.getStructuringElement(1,(13,13))\n",
        "\n",
        "\n",
        "blackhat = cv2.morphologyEx(grayScale, cv2.MORPH_BLACKHAT, kernel)\n",
        "cv2.imshow(\"BlackHat\",blackhat)\n",
        "cv2.imwrite('blackhat_sample1.jpg', blackhat, [int(cv2.IMWRITE_JPEG_QUALITY), 90])\n",
        "\n",
        "\n",
        "ret,thresh2 = cv2.threshold(blackhat,10,255,cv2.THRESH_BINARY)\n",
        "print( thresh2.shape )\n",
        "cv2.imshow(\"Thresholded Mask\",thresh2)\n",
        "cv2.imwrite('thresholded_sample1.jpg', thresh2, [int(cv2.IMWRITE_JPEG_QUALITY), 790])\n",
        "thresh2=cv2.dilate(thresh2.copy(),kernel,iterations=1)\n",
        "\n",
        "\n",
        "dst = cv2.inpaint(output,thresh2,1,cv2.INPAINT_TELEA)\n",
        "cv2.imshow(\"InPaint\",dst)\n",
        "cv2.imwrite('InPainted_sample1.jpg', dst, [int(cv2.IMWRITE_JPEG_QUALITY), 1090])\n",
        "cv2.waitKey(0)"
      ],
      "execution_count": null,
      "outputs": [
        {
          "output_type": "stream",
          "text": [
            "(564, 752)\n"
          ],
          "name": "stdout"
        },
        {
          "output_type": "execute_result",
          "data": {
            "text/plain": [
              "-1"
            ]
          },
          "metadata": {
            "tags": []
          },
          "execution_count": 14
        }
      ]
    },
    {
      "cell_type": "code",
      "metadata": {
        "id": "538rQKLlWbn0",
        "outputId": "5bfd7d1a-5829-47e7-eb61-663c17a54210"
      },
      "source": [
        "import cv2\n",
        "src = cv2.imread(\"ISIC_0000043.jpg\", cv2.IMREAD_UNCHANGED)\n",
        "scale_percent = 50\n",
        "\n",
        "width = int(src.shape[1] * scale_percent / 100)\n",
        "height = int(src.shape[0] * scale_percent / 100)\n",
        "\n",
        "\n",
        "dsize = (width, height)\n",
        "\n",
        "\n",
        "output = cv2.resize(src, dsize)\n",
        "\n",
        "cv2.imshow('ISIC_0000043.jpg/resize.jpg',output)\n",
        "\n",
        "cv2.waitKey(0)\n",
        "\n",
        "\n",
        "\n",
        "grayScale = cv2.cvtColor( output, cv2.COLOR_RGB2GRAY )\n",
        "cv2.imshow(\"GrayScale\",grayScale)\n",
        "cv2.imwrite('grayScale_sample43.jpg', grayScale, [int(cv2.IMWRITE_JPEG_QUALITY), 90])\n",
        "cv2.waitKey(0)\n",
        "\n",
        "kernel = cv2.getStructuringElement(1,(13,13))\n",
        "\n",
        "\n",
        "blackhat = cv2.morphologyEx(grayScale, cv2.MORPH_BLACKHAT, kernel)\n",
        "cv2.imshow(\"BlackHat\",blackhat)\n",
        "cv2.imwrite('blackhat_sample43.jpg', blackhat, [int(cv2.IMWRITE_JPEG_QUALITY), 90])\n",
        "cv2.waitKey(0)\n",
        "\n",
        "ret,thresh2 = cv2.threshold(blackhat,10,255,cv2.THRESH_BINARY+cv2.ADAPTIVE_THRESH_MEAN_C)\n",
        "thresh2=cv2.dilate(thresh2.copy(),kernel,iterations=1)\n",
        "print( thresh2.shape )\n",
        "cv2.imshow(\"Thresholded Mask\",thresh2)\n",
        "cv2.imwrite('thresholded_sample43.jpg', thresh2, [int(cv2.IMWRITE_JPEG_QUALITY), 90])\n",
        "cv2.waitKey(0)\n",
        "dst = cv2.inpaint(output,thresh2,25,cv2.INPAINT_TELEA)\n",
        "cv2.imshow(\"InPaint\",dst)\n",
        "cv2.imwrite('InPainted_sample43yeni43.jpg', dst, [int(cv2.IMWRITE_JPEG_QUALITY), 90])\n",
        "cv2.waitKey(0)"
      ],
      "execution_count": null,
      "outputs": [
        {
          "output_type": "stream",
          "text": [
            "(564, 752)\n"
          ],
          "name": "stdout"
        },
        {
          "output_type": "execute_result",
          "data": {
            "text/plain": [
              "-1"
            ]
          },
          "metadata": {
            "tags": []
          },
          "execution_count": 17
        }
      ]
    },
    {
      "cell_type": "code",
      "metadata": {
        "id": "dh129FdsWbn0",
        "outputId": "8cab9c5d-495b-4119-8357-e0c80c2d5d99"
      },
      "source": [
        "import cv2\n",
        "src = cv2.imread(\"ISIC_0000191.jpg\", cv2.IMREAD_UNCHANGED)\n",
        "scale_percent = 50\n",
        "\n",
        "width = int(src.shape[1] * scale_percent / 100)\n",
        "height = int(src.shape[0] * scale_percent / 100)\n",
        "\n",
        "\n",
        "dsize = (width, height)\n",
        "\n",
        "output = cv2.resize(src, dsize)\n",
        "\n",
        "cv2.imshow('ISIC_0000191.jpg/resize.jpg',output)\n",
        "\n",
        "cv2.waitKey(0)\n",
        "\n",
        "grayScale = cv2.cvtColor( output, cv2.COLOR_RGB2GRAY )\n",
        "cv2.imshow(\"GrayScale\",grayScale)\n",
        "cv2.imwrite('grayScale_sample191.jpg', grayScale, [int(cv2.IMWRITE_JPEG_QUALITY), 90])\n",
        "\n",
        "kernel = cv2.getStructuringElement(1,(9,9))\n",
        "\n",
        "\n",
        "blackhat = cv2.morphologyEx(grayScale, cv2.MORPH_BLACKHAT, kernel)\n",
        "cv2.imshow(\"BlackHat\",blackhat)\n",
        "cv2.imwrite('blackhat_sample191.jpg', blackhat, [int(cv2.IMWRITE_JPEG_QUALITY), 90])\n",
        "\n",
        "ret,thresh2 = cv2.threshold(blackhat,10,255,cv2.THRESH_BINARY)\n",
        "print( thresh2.shape )\n",
        "cv2.imshow(\"Thresholded Mask\",thresh2)\n",
        "cv2.imwrite('thresholded_sample191.jpg', thresh2, [int(cv2.IMWRITE_JPEG_QUALITY), 790])\n",
        "thresh2=cv2.dilate(thresh2.copy(),kernel,iterations=1)\n",
        "\n",
        "\n",
        "dst = cv2.inpaint(output,thresh2,1,cv2.INPAINT_TELEA)\n",
        "cv2.imshow(\"InPaint\",dst)\n",
        "cv2.imwrite('InPainted_sample1.jpg', dst, [int(cv2.IMWRITE_JPEG_QUALITY), 1090])\n",
        "cv2.waitKey(0)"
      ],
      "execution_count": null,
      "outputs": [
        {
          "output_type": "stream",
          "text": [
            "(525, 751)\n"
          ],
          "name": "stdout"
        },
        {
          "output_type": "execute_result",
          "data": {
            "text/plain": [
              "-1"
            ]
          },
          "metadata": {
            "tags": []
          },
          "execution_count": 22
        }
      ]
    },
    {
      "cell_type": "code",
      "metadata": {
        "id": "bF0oIe07Wbn1",
        "outputId": "47139c32-1bb7-4803-8a3f-88b56456a648"
      },
      "source": [
        "import cv2\n",
        "src = cv2.imread(\"ISIC_0000214.jpg\", cv2.IMREAD_UNCHANGED)\n",
        "scale_percent = 50\n",
        "\n",
        "width = int(src.shape[1] * scale_percent / 100)\n",
        "height = int(src.shape[0] * scale_percent / 100)\n",
        "\n",
        "\n",
        "dsize = (width, height)\n",
        "\n",
        "output = cv2.resize(src, dsize)\n",
        "\n",
        "cv2.imshow('ISIC_0000214.jpg/resize.jpg',output)\n",
        "\n",
        "cv2.waitKey(0)\n",
        "\n",
        "grayScale = cv2.cvtColor( output, cv2.COLOR_RGB2GRAY )\n",
        "cv2.imshow(\"GrayScale\",grayScale)\n",
        "cv2.imwrite('grayScale_sample214.jpg', grayScale, [int(cv2.IMWRITE_JPEG_QUALITY), 90])\n",
        "\n",
        "kernel = cv2.getStructuringElement(1,(7,7))\n",
        "\n",
        "\n",
        "blackhat = cv2.morphologyEx(grayScale, cv2.MORPH_BLACKHAT, kernel)\n",
        "cv2.imshow(\"BlackHat\",blackhat)\n",
        "cv2.imwrite('blackhat_sample214.jpg', blackhat, [int(cv2.IMWRITE_JPEG_QUALITY), 90])\n",
        "\n",
        "\n",
        "ret,thresh2 = cv2.threshold(blackhat,10,255,cv2.THRESH_BINARY)\n",
        "print( thresh2.shape )\n",
        "cv2.imshow(\"Thresholded Mask\",thresh2)\n",
        "cv2.imwrite('thresholded_sample214.jpg', thresh2, [int(cv2.IMWRITE_JPEG_QUALITY), 90])\n",
        "thresh2=cv2.dilate(thresh2.copy(),kernel,iterations=1)\n",
        "\n",
        "\n",
        "dst = cv2.inpaint(output,thresh2,10,cv2.INPAINT_TELEA)\n",
        "cv2.imshow(\"InPaint\",dst)\n",
        "cv2.imwrite('InPainted_sample214.jpg', dst, [int(cv2.IMWRITE_JPEG_QUALITY), 90])\n",
        "cv2.waitKey(0)"
      ],
      "execution_count": null,
      "outputs": [
        {
          "output_type": "stream",
          "text": [
            "(321, 479)\n"
          ],
          "name": "stdout"
        },
        {
          "output_type": "execute_result",
          "data": {
            "text/plain": [
              "-1"
            ]
          },
          "metadata": {
            "tags": []
          },
          "execution_count": 24
        }
      ]
    },
    {
      "cell_type": "code",
      "metadata": {
        "id": "GztssynrWbn2",
        "outputId": "40b7699f-74ee-4113-82fd-79f8f00c64fe"
      },
      "source": [
        "import cv2\n",
        "src = cv2.imread(\"ISIC_0000138.jpg\", cv2.IMREAD_UNCHANGED)\n",
        "scale_percent = 50\n",
        "width = int(src.shape[1] * scale_percent / 100)\n",
        "height = int(src.shape[0] * scale_percent / 100)\n",
        "\n",
        "\n",
        "dsize = (width, height)\n",
        "\n",
        "output = cv2.resize(src, dsize)\n",
        "\n",
        "cv2.imshow('ISIC_0000138.jpg/resize.jpg',output)\n",
        "\n",
        "cv2.waitKey(0)\n",
        "grayScale = cv2.cvtColor( output, cv2.COLOR_RGB2GRAY )\n",
        "cv2.imshow(\"GrayScale\",grayScale)\n",
        "cv2.imwrite('grayScale_sample138.jpg', grayScale, [int(cv2.IMWRITE_JPEG_QUALITY), 90])\n",
        "\n",
        "\n",
        "kernel = cv2.getStructuringElement(1,(15,15))\n",
        "\n",
        "blackhat = cv2.morphologyEx(grayScale, cv2.MORPH_BLACKHAT, kernel)\n",
        "cv2.imshow(\"BlackHat\",blackhat)\n",
        "cv2.imwrite('blackhat_sample138.jpg', blackhat, [int(cv2.IMWRITE_JPEG_QUALITY), 90])\n",
        "\n",
        "ret,thresh2 = cv2.threshold(blackhat,10,255,cv2.THRESH_BINARY)\n",
        "print( thresh2.shape )\n",
        "cv2.imshow(\"Thresholded Mask\",thresh2)\n",
        "cv2.imwrite('thresholded_sample138.jpg', thresh2, [int(cv2.IMWRITE_JPEG_QUALITY), 90])\n",
        "thresh2=cv2.dilate(thresh2.copy(),kernel,iterations=1)\n",
        "\n",
        "\n",
        "dst = cv2.inpaint(output,thresh2,1,cv2.INPAINT_TELEA)\n",
        "cv2.imshow(\"InPaint\",dst)\n",
        "cv2.imwrite('InPainted_sample138.jpg', dst, [int(cv2.IMWRITE_JPEG_QUALITY), 90])\n",
        "cv2.waitKey(0)"
      ],
      "execution_count": null,
      "outputs": [
        {
          "output_type": "stream",
          "text": [
            "(768, 1024)\n"
          ],
          "name": "stdout"
        },
        {
          "output_type": "execute_result",
          "data": {
            "text/plain": [
              "-1"
            ]
          },
          "metadata": {
            "tags": []
          },
          "execution_count": 4
        }
      ]
    },
    {
      "cell_type": "code",
      "metadata": {
        "id": "UyxYcFi2Wbn2",
        "outputId": "6d2bad01-a9c1-4b6d-d04f-210eb3de1aff"
      },
      "source": [
        "import cv2\n",
        "src = cv2.imread(\"ISIC_0000115.jpg\", cv2.IMREAD_UNCHANGED)\n",
        "scale_percent = 50\n",
        "\n",
        "\n",
        "width = int(src.shape[1] * scale_percent / 100)\n",
        "height = int(src.shape[0] * scale_percent / 100)\n",
        "\n",
        "\n",
        "dsize = (width, height)\n",
        "\n",
        "\n",
        "output = cv2.resize(src, dsize)\n",
        "\n",
        "cv2.imshow('ISIC_0000115.jpg/resize.jpg',output)\n",
        "\n",
        "cv2.waitKey(0)\n",
        "\n",
        "\n",
        "grayScale = cv2.cvtColor( output, cv2.COLOR_RGB2GRAY )\n",
        "cv2.imshow(\"GrayScale\",grayScale)\n",
        "cv2.imwrite('grayScale_sample115.jpg', grayScale, [int(cv2.IMWRITE_JPEG_QUALITY), 90])\n",
        "\n",
        "kernel = cv2.getStructuringElement(1,(17,17))\n",
        "\n",
        "blackhat = cv2.morphologyEx(grayScale, cv2.MORPH_BLACKHAT, kernel)\n",
        "cv2.imshow(\"BlackHat\",blackhat)\n",
        "cv2.imwrite('blackhat_sample115.jpg', blackhat, [int(cv2.IMWRITE_JPEG_QUALITY), 90])\n",
        "\n",
        "\n",
        "ret,thresh2 = cv2.threshold(blackhat,20,255,cv2.THRESH_BINARY)\n",
        "print( thresh2.shape )\n",
        "cv2.imshow(\"Thresholded Mask\",thresh2)\n",
        "cv2.imwrite('thresholded_sample115.jpg', thresh2, [int(cv2.IMWRITE_JPEG_QUALITY), 90])\n",
        "thresh2=cv2.dilate(thresh2.copy(),kernel,iterations=1)\n",
        "\n",
        "\n",
        "dst = cv2.inpaint(output,thresh2,10,cv2.INPAINT_TELEA)\n",
        "cv2.imshow(\"InPaint\",dst)\n",
        "cv2.imwrite('InPainted_sample115.jpg', dst, [int(cv2.IMWRITE_JPEG_QUALITY), 90])\n",
        "cv2.waitKey(0)"
      ],
      "execution_count": null,
      "outputs": [
        {
          "output_type": "stream",
          "text": [
            "(768, 1024)\n"
          ],
          "name": "stdout"
        },
        {
          "output_type": "execute_result",
          "data": {
            "text/plain": [
              "-1"
            ]
          },
          "metadata": {
            "tags": []
          },
          "execution_count": 25
        }
      ]
    },
    {
      "cell_type": "code",
      "metadata": {
        "id": "GDxvoiACWbn3"
      },
      "source": [
        ""
      ],
      "execution_count": null,
      "outputs": []
    }
  ]
}